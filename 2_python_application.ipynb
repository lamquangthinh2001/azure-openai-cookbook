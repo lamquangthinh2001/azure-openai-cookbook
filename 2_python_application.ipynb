{
 "cells": [
  {
   "cell_type": "code",
   "execution_count": 16,
   "metadata": {},
   "outputs": [],
   "source": [
    "from openai import AzureOpenAI\n",
    "client = AzureOpenAI(\n",
    " azure_endpoint = openai_api_url,\n",
    " api_key= openai_api_key,\n",
    " api_version=\"2024-02-01\"\n",
    ")"
   ]
  },
  {
   "cell_type": "code",
   "execution_count": 17,
   "metadata": {},
   "outputs": [],
   "source": [
    "deployment_1 = \"gpt-35-turbo\""
   ]
  },
  {
   "cell_type": "code",
   "execution_count": 40,
   "metadata": {},
   "outputs": [],
   "source": [
    "system_message = \"\"\"You are multi-language translation assistant. A user will provide you with a text to translate between triple pluses (+++) and context around the translation between triple ampersands (&&&). You will translate the text into Spanish, French, German, and Japanese. Once you do that, you will output the translation in JSON format. To accomplish this task, first read the translation context, then translate the text into Spanish, French, German, and Japanese in that order, then output the following JSON format:\n",
    "{\n",
    " \"Spanish\": \"\",\n",
    " \"French\": \"\",\n",
    " \"German\": \"\",\n",
    " \"Japanese\": \"\"\n",
    "}\n",
    "Only output the JSON and ensure that it is the correct format.\"\"\"\n",
    "\n",
    "user_message = \"\"\"+++Henry, Tomorrow I will be late for work due to unforeseen circumstances. My apologies, Mark.+++ &&&This is an e-mail from a worker to his boss.&&&\"\"\""
   ]
  },
  {
   "cell_type": "code",
   "execution_count": 41,
   "metadata": {},
   "outputs": [],
   "source": [
    "messages = [\n",
    " {\"role\": \"system\", \"content\": system_message},\n",
    " {\"role\": \"user\", \"content\": user_message},\n",
    " ]"
   ]
  },
  {
   "cell_type": "code",
   "execution_count": 42,
   "metadata": {},
   "outputs": [],
   "source": [
    "results = client.chat.completions.create(\n",
    " model=deployment_1,\n",
    " messages=messages)"
   ]
  },
  {
   "cell_type": "code",
   "execution_count": 43,
   "metadata": {},
   "outputs": [
    {
     "data": {
      "text/plain": [
       "'{\\n \"Spanish\": \"+++Henry, Mañana llegaré tarde al trabajo debido a circunstancias imprevistas. Mis disculpas, Mark.+++\",\\n \"French\": \"+++Henry, Demain je serai en retard pour le travail en raison de circonstances imprévues. Mes excuses, Mark.+++\",\\n \"German\": \"+++Henry, Morgen werde ich aufgrund unvorhergesehener Umstände zu spät zur Arbeit kommen. Meine Entschuldigung, Mark.+++\",\\n \"Japanese\": \"+++ヘンリーさん、明日は予期せぬ事態が発生し、遅刻してしまいます。申し訳ございません、マーク+++\"\\n}'"
      ]
     },
     "execution_count": 43,
     "metadata": {},
     "output_type": "execute_result"
    }
   ],
   "source": [
    "results_text = results.choices[0].message.content\n",
    "results_text"
   ]
  },
  {
   "cell_type": "code",
   "execution_count": 44,
   "metadata": {},
   "outputs": [
    {
     "data": {
      "text/plain": [
       "170"
      ]
     },
     "execution_count": 44,
     "metadata": {},
     "output_type": "execute_result"
    }
   ],
   "source": [
    "import tiktoken \n",
    "\n",
    "# Function to get token count for Open AI\n",
    "def num_tokens_from_string(string: str) -> int:\n",
    " \"\"\"Returns the number of tokens in a text string.\"\"\"\n",
    " enc = tiktoken.encoding_for_model(\"gpt-4\")\n",
    " num_tokens = len(enc.encode(string))\n",
    " return num_tokens\n",
    "\n",
    "num_tokens_from_string(system_message + user_message)"
   ]
  },
  {
   "cell_type": "code",
   "execution_count": 48,
   "metadata": {},
   "outputs": [],
   "source": [
    "attempts = 0\n",
    "max_attempts = 3\n",
    "success = False\n",
    "while not success and attempts < max_attempts:\n",
    "    try:\n",
    "        results = client.chat.completions.create(\n",
    "        model= deployment_1,\n",
    "        messages=messages\n",
    "        )\n",
    "        success = True\n",
    "    except TimeoutError as e:\n",
    "        print(\"Timeout error occurred, trying again...\")\n",
    "        attempts += 1\n",
    "        time.sleep(5)\n",
    "if not success:\n",
    "    print(\"Failed to get a response after several retries.\")"
   ]
  },
  {
   "cell_type": "code",
   "execution_count": 52,
   "metadata": {},
   "outputs": [
    {
     "data": {
      "text/plain": [
       "'+++ヘンリー、明日は予期せぬ事情により遅刻することになります。申し訳ありません、マーク。+++'"
      ]
     },
     "execution_count": 52,
     "metadata": {},
     "output_type": "execute_result"
    }
   ],
   "source": [
    "import json \n",
    "\n",
    "results_json = json.loads(results.choices[0].message.content)\n",
    "results_json[\"Japanese\"]\n"
   ]
  }
 ],
 "metadata": {
  "kernelspec": {
   "display_name": "venv",
   "language": "python",
   "name": "python3"
  },
  "language_info": {
   "codemirror_mode": {
    "name": "ipython",
    "version": 3
   },
   "file_extension": ".py",
   "mimetype": "text/x-python",
   "name": "python",
   "nbconvert_exporter": "python",
   "pygments_lexer": "ipython3",
   "version": "3.9.13"
  }
 },
 "nbformat": 4,
 "nbformat_minor": 2
}
